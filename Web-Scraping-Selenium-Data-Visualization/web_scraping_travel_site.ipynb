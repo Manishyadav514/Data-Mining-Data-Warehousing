{
 "cells": [
  {
   "cell_type": "code",
   "execution_count": 13,
   "metadata": {},
   "outputs": [],
   "source": [
    "import selenium\n",
    "from selenium import webdriver\n",
    "from selenium.webdriver.common.keys import Keys\n",
    "from selenium.webdriver.common.by import By\n",
    "from selenium.webdriver.support.ui import WebDriverWait\n",
    "from selenium.webdriver.support import expected_conditions as EC\n",
    "import requests\n",
    "import bs4 as BeautifulSoup\n",
    "import re\n",
    "import string\n",
    "import time\n",
    "from pathlib import Path\n",
    "import os\n",
    "from pathlib import Path"
   ]
  },
  {
   "cell_type": "code",
   "execution_count": 14,
   "metadata": {},
   "outputs": [
    {
     "name": "stdout",
     "output_type": "stream",
     "text": [
      "\n"
     ]
    }
   ],
   "source": [
    "# initializing chrome driver\n",
    "current_path = str(Path().absolute())\n",
    "driver = webdriver.Chrome(current_path + \"/chromedriver.exe\")\n",
    "# driver search for the given url\n",
    "driver.get(\"https://booking.com\")\n",
    "element = WebDriverWait(driver, 10).until(EC.presence_of_element_located((By.ID, \"ss\")))\n",
    "print(element.text)"
   ]
  },
  {
   "cell_type": "code",
   "execution_count": 3,
   "metadata": {},
   "outputs": [
    {
     "name": "stdin",
     "output_type": "stream",
     "text": [
      "Name of the city :  singapore\n"
     ]
    },
    {
     "name": "stdout",
     "output_type": "stream",
     "text": [
      "Keep moving formward, we are searching...\n"
     ]
    }
   ],
   "source": [
    "# Search Keyword\n",
    "place = input('Name of the city : ')\n",
    "#send kewyword to saerch bar\n",
    "driver.find_element_by_xpath(\"//*[@id='ss']\").send_keys(place)\n",
    "# Target the search button an click\n",
    "driver.find_element_by_class_name(\"sb-searchbox__button\").click()\n",
    "# Wait until it completes the search\n",
    "hotels = WebDriverWait(driver, 10).until(EC.presence_of_element_located((By.CLASS_NAME, \"sr_property_block_main_row\")))\n",
    "print(\"Keep moving formward, we are searching...\")"
   ]
  },
  {
   "cell_type": "code",
   "execution_count": 4,
   "metadata": {},
   "outputs": [
    {
     "name": "stdout",
     "output_type": "stream",
     "text": [
      "Number of hotels found :  25\n",
      "['https://www.booking.com/hotel/sg/marina-bay-sands.html?label=gen173nr-1FCAEoggI46AdIM1gEaGyIAQGYATG4ARfIAQzYAQHoAQH4AQKIAgGoAgO4AvS3k4UGwAIB0gIkZjYyZmY1Y2YtODZjYS00YjdkLWEzYmUtNmFkMTgxMTU4ZGQ22AIF4AIB&sid=a5e4826d3442d6baf2988e02c16067ed&dest_id=-73635&dest_type=city&group_adults=2&group_children=0&hapos=1&hpos=1&no_rooms=1&sr_order=popularity&srepoch=1621416971&srpvid=1da143854bc20176&ucfs=1&sig=v1drjS7hi0&from=searchresults;highlight_room=#hotelTmpl', 'https://www.booking.com/hotel/sg/rasa-sentosa-resort-by-the-shangri-la.html?label=gen173nr-1FCAEoggI46AdIM1gEaGyIAQGYATG4ARfIAQzYAQHoAQH4AQKIAgGoAgO4AvS3k4UGwAIB0gIkZjYyZmY1Y2YtODZjYS00YjdkLWEzYmUtNmFkMTgxMTU4ZGQ22AIF4AIB&sid=a5e4826d3442d6baf2988e02c16067ed&dest_id=-73635&dest_type=city&group_adults=2&group_children=0&hapos=2&hpos=2&no_rooms=1&sr_order=popularity&srepoch=1621416971&srpvid=1da143854bc20176&ucfs=1&sig=v1c9lvpAn0&from=searchresults;highlight_room=#hotelTmpl', 'https://www.booking.com/hotel/sg/boss.html?label=gen173nr-1FCAEoggI46AdIM1gEaGyIAQGYATG4ARfIAQzYAQHoAQH4AQKIAgGoAgO4AvS3k4UGwAIB0gIkZjYyZmY1Y2YtODZjYS00YjdkLWEzYmUtNmFkMTgxMTU4ZGQ22AIF4AIB&sid=a5e4826d3442d6baf2988e02c16067ed&dest_id=-73635&dest_type=city&group_adults=2&group_children=0&hapos=3&hpos=3&no_rooms=1&sr_order=popularity&srepoch=1621416971&srpvid=1da143854bc20176&ucfs=1&sig=v1Cozd7BbK&from=searchresults;highlight_room=#hotelTmpl', 'https://www.booking.com/hotel/sg/carlton.html?label=gen173nr-1FCAEoggI46AdIM1gEaGyIAQGYATG4ARfIAQzYAQHoAQH4AQKIAgGoAgO4AvS3k4UGwAIB0gIkZjYyZmY1Y2YtODZjYS00YjdkLWEzYmUtNmFkMTgxMTU4ZGQ22AIF4AIB&sid=a5e4826d3442d6baf2988e02c16067ed&dest_id=-73635&dest_type=city&group_adults=2&group_children=0&hapos=4&hpos=4&no_rooms=1&sr_order=popularity&srepoch=1621416971&srpvid=1da143854bc20176&ucfs=1&sig=v1awKJo6cc&from=searchresults;highlight_room=#hotelTmpl', 'https://www.booking.com/hotel/sg/the-fullerton-singapore.html?label=gen173nr-1FCAEoggI46AdIM1gEaGyIAQGYATG4ARfIAQzYAQHoAQH4AQKIAgGoAgO4AvS3k4UGwAIB0gIkZjYyZmY1Y2YtODZjYS00YjdkLWEzYmUtNmFkMTgxMTU4ZGQ22AIF4AIB&sid=a5e4826d3442d6baf2988e02c16067ed&dest_id=-73635&dest_type=city&group_adults=2&group_children=0&hapos=5&hpos=5&no_rooms=1&sr_order=popularity&srepoch=1621416971&srpvid=1da143854bc20176&ucfs=1&sig=v1BfpVY-Bq&from=searchresults;highlight_room=#hotelTmpl', 'https://www.booking.com/hotel/sg/panpacificsingapore.html?label=gen173nr-1FCAEoggI46AdIM1gEaGyIAQGYATG4ARfIAQzYAQHoAQH4AQKIAgGoAgO4AvS3k4UGwAIB0gIkZjYyZmY1Y2YtODZjYS00YjdkLWEzYmUtNmFkMTgxMTU4ZGQ22AIF4AIB&sid=a5e4826d3442d6baf2988e02c16067ed&dest_id=-73635&dest_type=city&group_adults=2&group_children=0&hapos=6&hpos=6&no_rooms=1&sr_order=popularity&srepoch=1621416971&srpvid=1da143854bc20176&ucfs=1&sig=v16xIWmWTf&from=searchresults;highlight_room=#hotelTmpl', 'https://www.booking.com/hotel/sg/mandarin.html?label=gen173nr-1FCAEoggI46AdIM1gEaGyIAQGYATG4ARfIAQzYAQHoAQH4AQKIAgGoAgO4AvS3k4UGwAIB0gIkZjYyZmY1Y2YtODZjYS00YjdkLWEzYmUtNmFkMTgxMTU4ZGQ22AIF4AIB&sid=a5e4826d3442d6baf2988e02c16067ed&dest_id=-73635&dest_type=city&group_adults=2&group_children=0&hapos=7&hpos=7&no_rooms=1&sr_order=popularity&srepoch=1621416971&srpvid=1da143854bc20176&ucfs=1&sig=v15_VGtV76&from=searchresults;highlight_room=#hotelTmpl', 'https://www.booking.com/hotel/sg/pan-pacific-serviced-suites-beach-road.html?label=gen173nr-1FCAEoggI46AdIM1gEaGyIAQGYATG4ARfIAQzYAQHoAQH4AQKIAgGoAgO4AvS3k4UGwAIB0gIkZjYyZmY1Y2YtODZjYS00YjdkLWEzYmUtNmFkMTgxMTU4ZGQ22AIF4AIB&sid=a5e4826d3442d6baf2988e02c16067ed&dest_id=-73635&dest_type=city&group_adults=2&group_children=0&hapos=8&hpos=8&no_rooms=1&sr_order=popularity&srepoch=1621416971&srpvid=1da143854bc20176&ucfs=1&sig=v14B6V-p7j&from=searchresults;highlight_room=#hotelTmpl', 'https://www.booking.com/hotel/sg/parkroyal-on-pickering.html?label=gen173nr-1FCAEoggI46AdIM1gEaGyIAQGYATG4ARfIAQzYAQHoAQH4AQKIAgGoAgO4AvS3k4UGwAIB0gIkZjYyZmY1Y2YtODZjYS00YjdkLWEzYmUtNmFkMTgxMTU4ZGQ22AIF4AIB&sid=a5e4826d3442d6baf2988e02c16067ed&dest_id=-73635&dest_type=city&group_adults=2&group_children=0&hapos=9&hpos=9&no_rooms=1&sr_order=popularity&srepoch=1621416971&srpvid=1da143854bc20176&ucfs=1&sig=v1haGHB7cD&from=searchresults;highlight_room=#hotelTmpl', 'https://www.booking.com/hotel/sg/w-singapore-sentosa-cove.html?label=gen173nr-1FCAEoggI46AdIM1gEaGyIAQGYATG4ARfIAQzYAQHoAQH4AQKIAgGoAgO4AvS3k4UGwAIB0gIkZjYyZmY1Y2YtODZjYS00YjdkLWEzYmUtNmFkMTgxMTU4ZGQ22AIF4AIB&sid=a5e4826d3442d6baf2988e02c16067ed&dest_id=-73635&dest_type=city&group_adults=2&group_children=0&hapos=10&hpos=10&no_rooms=1&sr_order=popularity&srepoch=1621416971&srpvid=1da143854bc20176&ucfs=1&sig=v1hUFPJ4UB&from=searchresults;highlight_room=#hotelTmpl', 'https://www.booking.com/hotel/sg/m-social-singapore.html?label=gen173nr-1FCAEoggI46AdIM1gEaGyIAQGYATG4ARfIAQzYAQHoAQH4AQKIAgGoAgO4AvS3k4UGwAIB0gIkZjYyZmY1Y2YtODZjYS00YjdkLWEzYmUtNmFkMTgxMTU4ZGQ22AIF4AIB&sid=a5e4826d3442d6baf2988e02c16067ed&dest_id=-73635&dest_type=city&group_adults=2&group_children=0&hapos=11&hpos=11&no_rooms=1&sr_order=popularity&srepoch=1621416971&srpvid=1da143854bc20176&ucfs=1&sig=v1t75lsabn&from=searchresults;highlight_room=#hotelTmpl', 'https://www.booking.com/hotel/sg/citadines-balestier.html?label=gen173nr-1FCAEoggI46AdIM1gEaGyIAQGYATG4ARfIAQzYAQHoAQH4AQKIAgGoAgO4AvS3k4UGwAIB0gIkZjYyZmY1Y2YtODZjYS00YjdkLWEzYmUtNmFkMTgxMTU4ZGQ22AIF4AIB&sid=a5e4826d3442d6baf2988e02c16067ed&dest_id=-73635&dest_type=city&group_adults=2&group_children=0&hapos=12&hpos=12&no_rooms=1&sr_order=popularity&srepoch=1621416971&srpvid=1da143854bc20176&ucfs=1&sig=v1kVaGoeOV&from=searchresults;highlight_room=#hotelTmpl', 'https://www.booking.com/hotel/sg/the-ritz-carlton-millenia-singapore.html?label=gen173nr-1FCAEoggI46AdIM1gEaGyIAQGYATG4ARfIAQzYAQHoAQH4AQKIAgGoAgO4AvS3k4UGwAIB0gIkZjYyZmY1Y2YtODZjYS00YjdkLWEzYmUtNmFkMTgxMTU4ZGQ22AIF4AIB&sid=a5e4826d3442d6baf2988e02c16067ed&dest_id=-73635&dest_type=city&group_adults=2&group_children=0&hapos=13&hpos=13&no_rooms=1&sr_order=popularity&srepoch=1621416971&srpvid=1da143854bc20176&ucfs=1&sig=v1hwEZAUIF&from=searchresults;highlight_room=#hotelTmpl', 'https://www.booking.com/hotel/sg/four-season-singapore.html?label=gen173nr-1FCAEoggI46AdIM1gEaGyIAQGYATG4ARfIAQzYAQHoAQH4AQKIAgGoAgO4AvS3k4UGwAIB0gIkZjYyZmY1Y2YtODZjYS00YjdkLWEzYmUtNmFkMTgxMTU4ZGQ22AIF4AIB&sid=a5e4826d3442d6baf2988e02c16067ed&dest_id=-73635&dest_type=city&group_adults=2&group_children=0&hapos=14&hpos=14&no_rooms=1&sr_order=popularity&srepoch=1621416971&srpvid=1da143854bc20176&ucfs=1&sig=v1il-hD_MJ&from=searchresults;highlight_room=#hotelTmpl', 'https://www.booking.com/hotel/sg/orchard-parade.html?label=gen173nr-1FCAEoggI46AdIM1gEaGyIAQGYATG4ARfIAQzYAQHoAQH4AQKIAgGoAgO4AvS3k4UGwAIB0gIkZjYyZmY1Y2YtODZjYS00YjdkLWEzYmUtNmFkMTgxMTU4ZGQ22AIF4AIB&sid=a5e4826d3442d6baf2988e02c16067ed&dest_id=-73635&dest_type=city&group_adults=2&group_children=0&hapos=15&hpos=15&no_rooms=1&sr_order=popularity&srepoch=1621416971&srpvid=1da143854bc20176&ucfs=1&sig=v1zYLrZdMX&from=searchresults;highlight_room=#hotelTmpl', 'https://www.booking.com/hotel/sg/amara-sanctuary-resort-sentosa.html?label=gen173nr-1FCAEoggI46AdIM1gEaGyIAQGYATG4ARfIAQzYAQHoAQH4AQKIAgGoAgO4AvS3k4UGwAIB0gIkZjYyZmY1Y2YtODZjYS00YjdkLWEzYmUtNmFkMTgxMTU4ZGQ22AIF4AIB&sid=a5e4826d3442d6baf2988e02c16067ed&dest_id=-73635&dest_type=city&group_adults=2&group_children=0&hapos=16&hpos=16&no_rooms=1&sr_order=popularity&srepoch=1621416971&srpvid=1da143854bc20176&ucfs=1&sig=v1978K6Xkt&from=searchresults;highlight_room=#hotelTmpl', 'https://www.booking.com/hotel/sg/the-sentosa-resort.html?label=gen173nr-1FCAEoggI46AdIM1gEaGyIAQGYATG4ARfIAQzYAQHoAQH4AQKIAgGoAgO4AvS3k4UGwAIB0gIkZjYyZmY1Y2YtODZjYS00YjdkLWEzYmUtNmFkMTgxMTU4ZGQ22AIF4AIB&sid=a5e4826d3442d6baf2988e02c16067ed&dest_id=-73635&dest_type=city&group_adults=2&group_children=0&hapos=17&hpos=17&no_rooms=1&sr_order=popularity&srepoch=1621416971&srpvid=1da143854bc20176&ucfs=1&sig=v1EmLJ4H5g&from=searchresults;highlight_room=#hotelTmpl', 'https://www.booking.com/hotel/sg/yotel-singapore-orchard-road.html?label=gen173nr-1FCAEoggI46AdIM1gEaGyIAQGYATG4ARfIAQzYAQHoAQH4AQKIAgGoAgO4AvS3k4UGwAIB0gIkZjYyZmY1Y2YtODZjYS00YjdkLWEzYmUtNmFkMTgxMTU4ZGQ22AIF4AIB&sid=a5e4826d3442d6baf2988e02c16067ed&dest_id=-73635&dest_type=city&group_adults=2&group_children=0&hapos=18&hpos=18&no_rooms=1&sr_order=popularity&srepoch=1621416971&srpvid=1da143854bc20176&ucfs=1&sig=v1wR73eI2Q&from=searchresults;highlight_room=#hotelTmpl', 'https://www.booking.com/hotel/sg/hotel-mandarin-oriental.html?label=gen173nr-1FCAEoggI46AdIM1gEaGyIAQGYATG4ARfIAQzYAQHoAQH4AQKIAgGoAgO4AvS3k4UGwAIB0gIkZjYyZmY1Y2YtODZjYS00YjdkLWEzYmUtNmFkMTgxMTU4ZGQ22AIF4AIB&sid=a5e4826d3442d6baf2988e02c16067ed&dest_id=-73635&dest_type=city&group_adults=2&group_children=0&hapos=19&hpos=19&no_rooms=1&sr_order=popularity&srepoch=1621416971&srpvid=1da143854bc20176&ucfs=1&sig=v1YlJYu7Bv&from=searchresults;highlight_room=#hotelTmpl', 'https://www.booking.com/hotel/sg/grand-hyatt-singapore.html?label=gen173nr-1FCAEoggI46AdIM1gEaGyIAQGYATG4ARfIAQzYAQHoAQH4AQKIAgGoAgO4AvS3k4UGwAIB0gIkZjYyZmY1Y2YtODZjYS00YjdkLWEzYmUtNmFkMTgxMTU4ZGQ22AIF4AIB&sid=a5e4826d3442d6baf2988e02c16067ed&dest_id=-73635&dest_type=city&group_adults=2&group_children=0&hapos=20&hpos=20&no_rooms=1&sr_order=popularity&srepoch=1621416971&srpvid=1da143854bc20176&ucfs=1&sig=v1PL6QKCTm&from=searchresults;highlight_room=#hotelTmpl', 'https://www.booking.com/hotel/sg/golden-landmark.html?label=gen173nr-1FCAEoggI46AdIM1gEaGyIAQGYATG4ARfIAQzYAQHoAQH4AQKIAgGoAgO4AvS3k4UGwAIB0gIkZjYyZmY1Y2YtODZjYS00YjdkLWEzYmUtNmFkMTgxMTU4ZGQ22AIF4AIB&sid=a5e4826d3442d6baf2988e02c16067ed&dest_id=-73635&dest_type=city&group_adults=2&group_children=0&hapos=21&hpos=21&no_rooms=1&sr_order=popularity&srepoch=1621416971&srpvid=1da143854bc20176&ucfs=1&sig=v1zJMzqCnK&from=searchresults;highlight_room=#hotelTmpl', 'https://www.booking.com/hotel/sg/andaz-singapore.html?label=gen173nr-1FCAEoggI46AdIM1gEaGyIAQGYATG4ARfIAQzYAQHoAQH4AQKIAgGoAgO4AvS3k4UGwAIB0gIkZjYyZmY1Y2YtODZjYS00YjdkLWEzYmUtNmFkMTgxMTU4ZGQ22AIF4AIB&sid=a5e4826d3442d6baf2988e02c16067ed&dest_id=-73635&dest_type=city&group_adults=2&group_children=0&hapos=22&hpos=22&no_rooms=1&sr_order=popularity&srepoch=1621416971&srpvid=1da143854bc20176&ucfs=1&sig=v1gY5t9nTy&from=searchresults;highlight_room=#hotelTmpl', 'https://www.booking.com/hotel/sg/intercontinental-singapore.html?label=gen173nr-1FCAEoggI46AdIM1gEaGyIAQGYATG4ARfIAQzYAQHoAQH4AQKIAgGoAgO4AvS3k4UGwAIB0gIkZjYyZmY1Y2YtODZjYS00YjdkLWEzYmUtNmFkMTgxMTU4ZGQ22AIF4AIB&sid=a5e4826d3442d6baf2988e02c16067ed&dest_id=-73635&dest_type=city&group_adults=2&group_children=0&hapos=23&hpos=23&no_rooms=1&sr_order=popularity&srepoch=1621416971&srpvid=1da143854bc20176&ucfs=1&sig=v1atB2XDuT&from=searchresults;highlight_room=#hotelTmpl', 'https://www.booking.com/hotel/sg/resorts-world-sentosa-michael.html?label=gen173nr-1FCAEoggI46AdIM1gEaGyIAQGYATG4ARfIAQzYAQHoAQH4AQKIAgGoAgO4AvS3k4UGwAIB0gIkZjYyZmY1Y2YtODZjYS00YjdkLWEzYmUtNmFkMTgxMTU4ZGQ22AIF4AIB&sid=a5e4826d3442d6baf2988e02c16067ed&dest_id=-73635&dest_type=city&group_adults=2&group_children=0&hapos=24&hpos=24&no_rooms=1&sr_order=popularity&srepoch=1621416971&srpvid=1da143854bc20176&ucfs=1&sig=v1BTZ7WpQM&from=searchresults;highlight_room=#hotelTmpl', 'https://www.booking.com/hotel/sg/orchard-singapore.html?label=gen173nr-1FCAEoggI46AdIM1gEaGyIAQGYATG4ARfIAQzYAQHoAQH4AQKIAgGoAgO4AvS3k4UGwAIB0gIkZjYyZmY1Y2YtODZjYS00YjdkLWEzYmUtNmFkMTgxMTU4ZGQ22AIF4AIB&sid=a5e4826d3442d6baf2988e02c16067ed&dest_id=-73635&dest_type=city&group_adults=2&group_children=0&hapos=25&hpos=25&no_rooms=1&sr_order=popularity&srepoch=1621416971&srpvid=1da143854bc20176&ucfs=1&sig=v1XMouocnV&from=searchresults;highlight_room=#hotelTmpl']\n"
     ]
    }
   ],
   "source": [
    "urls = []         # initializing empty array\n",
    "# find elements by the given class\n",
    "hotels = driver.find_elements_by_class_name('sr-hotel__title')\n",
    "# increment the array with hotels urls\n",
    "for hotel in hotels :\n",
    "    url = hotel.find_element_by_class_name(\"hotel_name_link\").get_attribute(\"href\")\n",
    "    urls.append(url)\n",
    "time.sleep(5)\n",
    "# prints number of urls \n",
    "print(\"Number of hotels found : \", len(urls) )\n",
    "print(urls)"
   ]
  },
  {
   "cell_type": "code",
   "execution_count": 6,
   "metadata": {},
   "outputs": [],
   "source": [
    "# function to get hotel reviews\n",
    "from selenium.webdriver.support.ui import Select \n",
    "def Hotel_Reviews():\n",
    "    review_count = 100             # number of reviews we want\n",
    "    reviews_list = []              # initialize empty array to store reviews and \n",
    "    # target and click on read all reviews button\n",
    "    try:\n",
    "        WebDriverWait(driver, 10).until(EC.element_to_be_clickable((By.CSS_SELECTOR, \"#guest-featured_reviews__horizontal-block > div > div.hp-featured_reviews-bottom > button\"))).click()\n",
    "    except:\n",
    "        pass\n",
    "    try:\n",
    "        # to sort the review \n",
    "        select = Select(driver.find_element_by_id('review_sort'))\n",
    "        select.select_by_value('f_recent_desc')                                  # select by value \n",
    "    except:\n",
    "        pass\n",
    "    # search reviews untill the review count reaches to 100 \n",
    "    check = True\n",
    "    while check:\n",
    "        try:\n",
    "            for review in driver.find_elements_by_class_name('review_list_new_item_block'):\n",
    "                reviews = dict()\n",
    "                try:\n",
    "                    reviews['score'] = review.find_element_by_class_name('bui-review-score__badge').text\n",
    "                except:\n",
    "                    reviews['score'] = \"\"\n",
    "                try:\n",
    "                    reviews['comments'] = review.find_element_by_class_name('c-review-block__title').text\n",
    "                except:\n",
    "                    reviews['comments'] = \"\"\n",
    "                reviews_list.append(reviews)\n",
    "        except:\n",
    "            return 0\n",
    "        if len(reviews_list) >= review_count:\n",
    "            check = False\n",
    "        else:\n",
    "            try:\n",
    "                driver.find_element_by_class_name('pagenext').click()\n",
    "                time.sleep(3)\n",
    "            except:\n",
    "                check = False\n",
    "    return(reviews_list)"
   ]
  },
  {
   "cell_type": "code",
   "execution_count": 7,
   "metadata": {},
   "outputs": [],
   "source": [
    "def Hotel_Details(url):\n",
    "    #driver = webdriver.Chrome(\"D:/DMDW-Data-Management-Data-Warehousing-main/Web-Scraping-Selenium/chromedriver_win32/chromedriver.exe\")\n",
    "    driver.get(url)\n",
    "    time.sleep(5)\n",
    "    try:\n",
    "        details = {}\n",
    "        details['name'] = driver.find_element_by_class_name('hp__hotel-name').text\n",
    "        details['rating'] = driver.find_element_by_class_name('bui-review-score__badge').text\n",
    "        try:\n",
    "            details['location'] = driver.find_element_by_class_name('hp_address_subtitle').text\n",
    "        except:\n",
    "            details['location'] = ''\n",
    "        # fetching hotel reviews\n",
    "        #try:\n",
    "         #   details['reviews'] = Hotel_Reviews()\n",
    "        #except:\n",
    "         #   details['reviews'] = \"NA\"\n",
    "    except:\n",
    "        return 0\n",
    "    return details"
   ]
  },
  {
   "cell_type": "code",
   "execution_count": 8,
   "metadata": {},
   "outputs": [
    {
     "data": {
      "text/plain": [
       "{'name': 'Hotel Marina Bay Sands (SG Clean)',\n",
       " 'rating': '9.0',\n",
       " 'location': '10 Bayfront Avenue, Marina Bay, 018956 Singapore, Singapore'}"
      ]
     },
     "execution_count": 8,
     "metadata": {},
     "output_type": "execute_result"
    }
   ],
   "source": [
    "Hotel_Details(urls[0])"
   ]
  },
  {
   "cell_type": "code",
   "execution_count": 12,
   "metadata": {},
   "outputs": [
    {
     "name": "stdout",
     "output_type": "stream",
     "text": [
      "[{'score': '10', 'comments': 'No 1 service hotel in Singapore'}, {'score': '10', 'comments': 'Exceptional'}, {'score': '10', 'comments': 'Exceptional'}, {'score': '10', 'comments': 'Exceptional'}, {'score': '9.0', 'comments': 'Wonderful'}, {'score': '8.0', 'comments': 'Very Good'}, {'score': '10', 'comments': 'Best ever stay!'}, {'score': '9.0', 'comments': 'Wonderful'}, {'score': '9.0', 'comments': 'Wonderful'}, {'score': '10', 'comments': 'Exceptional'}, {'score': '10', 'comments': 'Exceptional'}, {'score': '10', 'comments': 'excellent experience'}, {'score': '10', 'comments': 'Exceptional'}, {'score': '9.0', 'comments': 'Wonderful view and pleasant stay'}, {'score': '10', 'comments': 'Exceptional'}, {'score': '9.0', 'comments': 'good'}, {'score': '8.0', 'comments': 'Very Good'}, {'score': '10', 'comments': 'Exceptional'}, {'score': '10', 'comments': 'Exceptional'}, {'score': '10', 'comments': 'We stayed in 2 connecting rooms with our 2 kids. All was perfect. We had breakfast and Dinner in the room and it was lov'}, {'score': '10', 'comments': 'Exceptional'}, {'score': '10', 'comments': 'Exceptional'}, {'score': '9.0', 'comments': 'Wonderful'}, {'score': '8.0', 'comments': 'A great staycation despite no fireworks!'}, {'score': '10', 'comments': 'Exceptional'}, {'score': '10', 'comments': 'Definitely will come back for staycation.'}, {'score': '10', 'comments': 'Exceptional'}, {'score': '10', 'comments': \"MBS is AWESOME. Came here Dec 2015 & Dec 2020 i'm back again for 2nd time celebrate my Anniversary.\"}, {'score': '8.0', 'comments': 'Very Good'}, {'score': '8.0', 'comments': 'Very Good'}, {'score': '10', 'comments': 'Exceptional'}, {'score': '9.0', 'comments': 'Wonderful'}, {'score': '10', 'comments': 'Exceptional'}, {'score': '9.0', 'comments': 'Wonderful'}, {'score': '10', 'comments': 'Great service & food.'}, {'score': '9.0', 'comments': 'Great experience'}, {'score': '8.0', 'comments': 'Very Good'}, {'score': '10', 'comments': 'Exceptional'}, {'score': '9.0', 'comments': \"It's an amazing short getaway, superb view and services. I wish we could stay longer.\"}, {'score': '7.0', 'comments': 'Overall my family enjoy but we had difficulty finding halal food'}, {'score': '10', 'comments': 'Exceptional'}, {'score': '8.0', 'comments': 'Very Good'}, {'score': '7.0', 'comments': 'Good'}, {'score': '9.0', 'comments': 'nice staycation'}, {'score': '7.0', 'comments': 'Good'}, {'score': '7.0', 'comments': 'Overall ok, Will not visit again'}, {'score': '9.0', 'comments': 'Wonderful'}, {'score': '5.0', 'comments': 'Fair'}, {'score': '8.0', 'comments': 'Very Good'}, {'score': '8.0', 'comments': 'Very Good'}, {'score': '1.0', 'comments': '직원의 어이없는 대처'}, {'score': '9.0', 'comments': 'Wonderful'}, {'score': '10', 'comments': 'Exceptional'}, {'score': '8.0', 'comments': 'Weekend getaway'}, {'score': '9.0', 'comments': 'A pleasant stay with a lovely view both from the room and the pool.'}, {'score': '9.0', 'comments': 'Wonderful'}, {'score': '7.0', 'comments': 'A wonderful staycation.'}, {'score': '8.0', 'comments': '環境尚且不錯唯一的缺點就是太多設施無法使用'}, {'score': '8.0', 'comments': 'Very Good'}, {'score': '9.0', 'comments': 'Excellent staff and pool. Very good restaurants. Cut, KOMA, bread street'}, {'score': '10', 'comments': 'excellent hotel experience'}, {'score': '10', 'comments': 'Exceptional'}, {'score': '9.0', 'comments': 'Wonderful'}, {'score': '10', 'comments': 'A trip you should definitely go once every year.'}, {'score': '8.0', 'comments': 'Most Iconic Singapore hotel'}, {'score': '9.0', 'comments': 'Wonderful'}, {'score': '5.0', 'comments': 'Fair'}, {'score': '4.0', 'comments': 'check in should be earlier'}, {'score': '10', 'comments': 'Exceptional'}, {'score': '10', 'comments': 'Exceptional'}, {'score': '8.0', 'comments': 'Very Good'}, {'score': '10', 'comments': 'Value for money'}, {'score': '9.0', 'comments': 'Wonderful'}, {'score': '6.0', 'comments': 'Pleasant'}, {'score': '9.0', 'comments': 'Wonderful'}, {'score': '7.0', 'comments': 'Excellent stay at MBS marred by slow check-in'}, {'score': '5.0', 'comments': 'just so so'}, {'score': '10', 'comments': 'Exceptional'}, {'score': '3.0', 'comments': 'Having a hotel industry background, the check in experience was not a hotel/resort standard.'}, {'score': '7.0', 'comments': 'Good'}, {'score': '10', 'comments': 'Exceptional'}, {'score': '9.0', 'comments': 'Wonderful'}, {'score': '9.0', 'comments': 'Wonderful'}, {'score': '9.0', 'comments': 'Wonderful'}, {'score': '9.6', 'comments': 'Exceptional'}, {'score': '9.0', 'comments': 'Enjoyable relaxing stay. Will go again.'}, {'score': '8.0', 'comments': \"I still can't brain we can't even See From far the Infinity pool\"}, {'score': '10', 'comments': 'Exceptional'}, {'score': '8.0', 'comments': 'Very Good'}, {'score': '8.0', 'comments': 'Very Good'}, {'score': '9.0', 'comments': 'Wonderful'}, {'score': '10', 'comments': 'Exceptional'}, {'score': '1.0', 'comments': 'Not worth of your cash'}, {'score': '4.0', 'comments': 'Expensive and not so worthy.'}, {'score': '10', 'comments': 'Exceptional'}, {'score': '10', 'comments': 'Exceptional'}, {'score': '9.0', 'comments': 'Wonderful'}, {'score': '10', 'comments': 'Pleasant surprise'}, {'score': '6.0', 'comments': 'Pleasant'}, {'score': '5.0', 'comments': 'Below expectation.'}]\n"
     ]
    }
   ],
   "source": [
    "A = Hotel_Reviews()                  # initializing empty dictionary\n",
    "print(A)"
   ]
  },
  {
   "cell_type": "code",
   "execution_count": null,
   "metadata": {},
   "outputs": [
    {
     "name": "stderr",
     "output_type": "stream",
     "text": [
      "  0%|          | 0/20 [00:00<?, ?it/s]"
     ]
    },
    {
     "name": "stdout",
     "output_type": "stream",
     "text": [
      "{'name': 'Hotel Marina Bay Sands (SG Clean)', 'rating': '9.0', 'location': '10 Bayfront Avenue, Marina Bay, 018956 Singapore, Singapore'}\n"
     ]
    },
    {
     "name": "stderr",
     "output_type": "stream",
     "text": [
      "  5%|▌         | 1/20 [00:11<03:33, 11.23s/it]"
     ]
    },
    {
     "name": "stdout",
     "output_type": "stream",
     "text": [
      "{'name': 'Hotel Marina Bay Sands (SG Clean)', 'rating': '9.0', 'location': '10 Bayfront Avenue, Marina Bay, 018956 Singapore, Singapore', 'reviews': []}\n",
      "{'name': \"Resort Shangri-La's Rasa Sentosa Resort & Spa (SG Clean)\", 'rating': '8.6', 'location': '101 Siloso Road, Sentosa Island, 098970 Singapore, Singapore'}\n"
     ]
    },
    {
     "name": "stderr",
     "output_type": "stream",
     "text": [
      " 10%|█         | 2/20 [00:21<03:18, 11.00s/it]"
     ]
    },
    {
     "name": "stdout",
     "output_type": "stream",
     "text": [
      "{'name': \"Resort Shangri-La's Rasa Sentosa Resort & Spa (SG Clean)\", 'rating': '8.6', 'location': '101 Siloso Road, Sentosa Island, 098970 Singapore, Singapore', 'reviews': []}\n",
      "{'name': 'Hotel Hotel Boss (SG Clean)', 'rating': '7.5', 'location': '500 Jalan Sultan Road, 199020 Singapore, Singapore'}\n"
     ]
    },
    {
     "name": "stderr",
     "output_type": "stream",
     "text": [
      " 15%|█▌        | 3/20 [00:35<03:21, 11.88s/it]"
     ]
    },
    {
     "name": "stdout",
     "output_type": "stream",
     "text": [
      "{'name': 'Hotel Hotel Boss (SG Clean)', 'rating': '7.5', 'location': '500 Jalan Sultan Road, 199020 Singapore, Singapore', 'reviews': []}\n",
      "{'name': 'Hotel Carlton Hotel Singapore (SG Clean)', 'rating': '8.8', 'location': '76 Bras Basah Road, City Hall, 189558 Singapore, Singapore'}\n"
     ]
    },
    {
     "name": "stderr",
     "output_type": "stream",
     "text": [
      " 20%|██        | 4/20 [00:45<02:58, 11.18s/it]"
     ]
    },
    {
     "name": "stdout",
     "output_type": "stream",
     "text": [
      "{'name': 'Hotel Carlton Hotel Singapore (SG Clean)', 'rating': '8.8', 'location': '76 Bras Basah Road, City Hall, 189558 Singapore, Singapore', 'reviews': []}\n",
      "{'name': 'Hotel The Fullerton Hotel Singapore (SG Clean, Staycation Approved)', 'rating': '9.1', 'location': '1 Fullerton Square, Marina Bay, 049178 Singapore, Singapore'}\n"
     ]
    },
    {
     "name": "stderr",
     "output_type": "stream",
     "text": [
      " 25%|██▌       | 5/20 [00:55<02:44, 10.95s/it]"
     ]
    },
    {
     "name": "stdout",
     "output_type": "stream",
     "text": [
      "{'name': 'Hotel The Fullerton Hotel Singapore (SG Clean, Staycation Approved)', 'rating': '9.1', 'location': '1 Fullerton Square, Marina Bay, 049178 Singapore, Singapore', 'reviews': []}\n",
      "{'name': 'Hotel Pan Pacific Singapore (SG Clean, Staycation Approved)', 'rating': '9.0', 'location': '7 Raffles Boulevard, Marina Square, Marina Bay, 039595 Singapore, Singapore'}\n"
     ]
    },
    {
     "name": "stderr",
     "output_type": "stream",
     "text": [
      " 30%|███       | 6/20 [01:10<02:50, 12.20s/it]"
     ]
    },
    {
     "name": "stdout",
     "output_type": "stream",
     "text": [
      "{'name': 'Hotel Pan Pacific Singapore (SG Clean, Staycation Approved)', 'rating': '9.0', 'location': '7 Raffles Boulevard, Marina Square, Marina Bay, 039595 Singapore, Singapore', 'reviews': []}\n",
      "{'name': 'Hotel Mandarin Orchard Singapore (SG Clean / Staycation Approved)', 'rating': '8.4', 'location': '333 Orchard Road, Orchard, 238867 Singapore, Singapore'}\n"
     ]
    },
    {
     "name": "stderr",
     "output_type": "stream",
     "text": [
      " 35%|███▌      | 7/20 [01:22<02:37, 12.10s/it]"
     ]
    },
    {
     "name": "stdout",
     "output_type": "stream",
     "text": [
      "{'name': 'Hotel Mandarin Orchard Singapore (SG Clean / Staycation Approved)', 'rating': '8.4', 'location': '333 Orchard Road, Orchard, 238867 Singapore, Singapore', 'reviews': []}\n"
     ]
    }
   ],
   "source": [
    "from tqdm import tqdm\n",
    "# tqdm keeps track of the progress\n",
    "All_Details = []\n",
    "# range is 20 becasue we want details of 20 hotels\n",
    "for i in tqdm(range(20)):\n",
    "    A = Hotel_Details(urls[i])\n",
    "    #A['reviews'] = Hotel_Reviews()\n",
    "    All_Details.append(A)"
   ]
  },
  {
   "cell_type": "code",
   "execution_count": 20,
   "metadata": {},
   "outputs": [
    {
     "name": "stdout",
     "output_type": "stream",
     "text": [
      "20\n",
      "{'name': 'Hotel Grand Hyatt Singapore (SG Clean)', 'rating': '8.6', 'reviews': 'NA'}\n",
      "{'name': 'Hotel Grand Hyatt Singapore (SG Clean)', 'rating': '8.6', 'reviews': 'NA'}\n",
      "{'name': 'Hotel Grand Hyatt Singapore (SG Clean)', 'rating': '8.6', 'reviews': 'NA'}\n",
      "{'name': 'Hotel Grand Hyatt Singapore (SG Clean)', 'rating': '8.6', 'reviews': 'NA'}\n",
      "{'name': 'Hotel Grand Hyatt Singapore (SG Clean)', 'rating': '8.6', 'reviews': 'NA'}\n",
      "{'name': 'Hotel Grand Hyatt Singapore (SG Clean)', 'rating': '8.6', 'reviews': 'NA'}\n",
      "{'name': 'Hotel Grand Hyatt Singapore (SG Clean)', 'rating': '8.6', 'reviews': 'NA'}\n",
      "{'name': 'Hotel Grand Hyatt Singapore (SG Clean)', 'rating': '8.6', 'reviews': 'NA'}\n",
      "{'name': 'Hotel Grand Hyatt Singapore (SG Clean)', 'rating': '8.6', 'reviews': 'NA'}\n",
      "{'name': 'Hotel Grand Hyatt Singapore (SG Clean)', 'rating': '8.6', 'reviews': 'NA'}\n",
      "{'name': 'Hotel Grand Hyatt Singapore (SG Clean)', 'rating': '8.6', 'reviews': 'NA'}\n",
      "{'name': 'Hotel Grand Hyatt Singapore (SG Clean)', 'rating': '8.6', 'reviews': 'NA'}\n",
      "{'name': 'Hotel Grand Hyatt Singapore (SG Clean)', 'rating': '8.6', 'reviews': 'NA'}\n",
      "{'name': 'Hotel Grand Hyatt Singapore (SG Clean)', 'rating': '8.6', 'reviews': 'NA'}\n",
      "{'name': 'Hotel Grand Hyatt Singapore (SG Clean)', 'rating': '8.6', 'reviews': 'NA'}\n",
      "{'name': 'Hotel Grand Hyatt Singapore (SG Clean)', 'rating': '8.6', 'reviews': 'NA'}\n",
      "{'name': 'Hotel Grand Hyatt Singapore (SG Clean)', 'rating': '8.6', 'reviews': 'NA'}\n",
      "{'name': 'Hotel Grand Hyatt Singapore (SG Clean)', 'rating': '8.6', 'reviews': 'NA'}\n",
      "{'name': 'Hotel Grand Hyatt Singapore (SG Clean)', 'rating': '8.6', 'reviews': 'NA'}\n",
      "{'name': 'Hotel Grand Hyatt Singapore (SG Clean)', 'rating': '8.6', 'reviews': 'NA'}\n"
     ]
    }
   ],
   "source": [
    "# To write the details of hotels in csv file\n",
    "import csv\n",
    "\n",
    "# default path to file to store data\n",
    "path_to_file = place + \".csv\"\n",
    "\n",
    "# open the file to save the review\n",
    "csvFile = open(path_to_file, 'a', encoding=\"utf-8\")\n",
    "csvWriter = csv.writer(csvFile)\n",
    "print(len(All_Details))\n",
    "for j in range(len(All_Details)):\n",
    "    print(All_Details[i][0])\n",
    "    name = All_Details[i][0]['name']\n",
    "    rating = All_Details[i][0]['rating']\n",
    "    review = All_Details[i][0]['reviews']\n",
    "    csvWriter.writerow([ name, rating, review]) "
   ]
  },
  {
   "cell_type": "code",
   "execution_count": 43,
   "metadata": {},
   "outputs": [],
   "source": [
    "import json\n",
    "location = \"fer\"\n",
    "final_hotels_data = json.dumps(final_hotels_data, indent=4)\n",
    "file_name = location + '.json'\n",
    "with open(file_name, 'w') as f:\n",
    "    f.write(final_hotels_data)"
   ]
  },
  {
   "cell_type": "code",
   "execution_count": null,
   "metadata": {},
   "outputs": [],
   "source": []
  }
 ],
 "metadata": {
  "kernelspec": {
   "display_name": "Python 3",
   "language": "python",
   "name": "python3"
  },
  "language_info": {
   "codemirror_mode": {
    "name": "ipython",
    "version": 3
   },
   "file_extension": ".py",
   "mimetype": "text/x-python",
   "name": "python",
   "nbconvert_exporter": "python",
   "pygments_lexer": "ipython3",
   "version": "3.8.5"
  }
 },
 "nbformat": 4,
 "nbformat_minor": 4
}
